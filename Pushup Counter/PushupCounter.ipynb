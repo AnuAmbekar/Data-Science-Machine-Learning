{
 "cells": [
  {
   "cell_type": "code",
   "execution_count": 1,
   "id": "35f8597b",
   "metadata": {},
   "outputs": [],
   "source": [
    "import cv2\n",
    "import mediapipe as mp\n",
    "import numpy as np"
   ]
  },
  {
   "cell_type": "code",
   "execution_count": 2,
   "id": "c7c2a22c",
   "metadata": {},
   "outputs": [],
   "source": [
    "mp_pose = mp.solutions.pose\n",
    "mp_drawing = mp.solutions.drawing_utils"
   ]
  },
  {
   "cell_type": "code",
   "execution_count": 14,
   "id": "6f8c890a",
   "metadata": {},
   "outputs": [],
   "source": [
    "video = cv2.VideoCapture('production_id_5195148 (1080p).mp4')\n",
    "\n",
    "with mp_pose.Pose(min_detection_confidence=0.5, min_tracking_confidence=0.5) as pose:\n",
    "    \n",
    "    while True:\n",
    "        \n",
    "        ret, frame = video.read()\n",
    "        resize = cv2.resize(frame, (900, 500)) \n",
    "        image = cv2.cvtColor(resize, cv2.COLOR_BGR2RGB)\n",
    "        results = pose.process(image)\n",
    "        original_image = cv2.cvtColor(image, cv2.COLOR_RGB2BGR)\n",
    "        \n",
    "        mp_drawing.draw_landmarks(original_image, results.pose_landmarks, mp_pose.POSE_CONNECTIONS)\n",
    "        \n",
    "        cv2.imshow('video', original_image)\n",
    "        \n",
    "        \n",
    "        \n",
    "        if cv2.waitKey(1) & 0xFF == ord('q'):\n",
    "            break\n",
    "            \n",
    "    video.release()\n",
    "    cv2.destroyAllWindows()"
   ]
  },
  {
   "cell_type": "code",
   "execution_count": 3,
   "id": "ead88c9a",
   "metadata": {},
   "outputs": [],
   "source": [
    "def get_angle(a, b, c):\n",
    "    \n",
    "    array = np.arctan2(c[1] - b[1], c[0] - c[0]) - np.arctan2(a[1] - b[1], a[0] - b[0])\n",
    "    angle = np.abs(array * 180 / np.pi)\n",
    "    \n",
    "    if angle > 180:\n",
    "        angle = 360 - angle\n",
    "        \n",
    "    return angle"
   ]
  },
  {
   "cell_type": "code",
   "execution_count": 30,
   "id": "c4c58a01",
   "metadata": {},
   "outputs": [
    {
     "data": {
      "text/plain": [
       "164.99572269341508"
      ]
     },
     "execution_count": 30,
     "metadata": {},
     "output_type": "execute_result"
    }
   ],
   "source": [
    "x1 = results.pose_landmarks.landmark[mp_pose.PoseLandmark.LEFT_SHOULDER].x\n",
    "y1 = results.pose_landmarks.landmark[mp_pose.PoseLandmark.LEFT_SHOULDER].y\n",
    "\n",
    "x2 = results.pose_landmarks.landmark[mp_pose.PoseLandmark.LEFT_ELBOW].x\n",
    "y2 = results.pose_landmarks.landmark[mp_pose.PoseLandmark.LEFT_ELBOW].y\n",
    "\n",
    "x3 = results.pose_landmarks.landmark[mp_pose.PoseLandmark.LEFT_WRIST].x\n",
    "y3 = results.pose_landmarks.landmark[mp_pose.PoseLandmark.LEFT_WRIST].y\n",
    "\n",
    "shoulder = np.array([x1, y1])\n",
    "elbow = np.array([x2, y2])\n",
    "wrist = np.array([x3, y3])\n",
    "\n",
    "get_angle(shoulder, elbow, wrist)"
   ]
  },
  {
   "cell_type": "code",
   "execution_count": 29,
   "id": "0fe3ab61",
   "metadata": {},
   "outputs": [],
   "source": [
    "video = cv2.VideoCapture('production_id_5195148 (1080p).mp4')\n",
    "\n",
    "count = 0\n",
    "state = False\n",
    "with mp_pose.Pose(min_detection_confidence=0.5, min_tracking_confidence=0.5) as pose:\n",
    "    \n",
    "    while True:\n",
    "        \n",
    "        ret, frame = video.read()\n",
    "        resize = cv2.resize(frame, (900, 500)) \n",
    "        image = cv2.cvtColor(resize, cv2.COLOR_BGR2RGB)\n",
    "        results = pose.process(image)\n",
    "        original_image = cv2.cvtColor(image, cv2.COLOR_RGB2BGR)\n",
    "        \n",
    "        mp_drawing.draw_landmarks(original_image, results.pose_landmarks, mp_pose.POSE_CONNECTIONS)\n",
    "    \n",
    "        \n",
    "        x1 = results.pose_landmarks.landmark[mp_pose.PoseLandmark.LEFT_SHOULDER].x\n",
    "        y1 = results.pose_landmarks.landmark[mp_pose.PoseLandmark.LEFT_SHOULDER].y\n",
    "        \n",
    "        x2 = results.pose_landmarks.landmark[mp_pose.PoseLandmark.LEFT_ELBOW].x\n",
    "        y2 = results.pose_landmarks.landmark[mp_pose.PoseLandmark.LEFT_ELBOW].y\n",
    "        \n",
    "        x3 = results.pose_landmarks.landmark[mp_pose.PoseLandmark.LEFT_WRIST].x\n",
    "        y3 = results.pose_landmarks.landmark[mp_pose.PoseLandmark.LEFT_WRIST].y\n",
    "        \n",
    "        shoulder = np.array([x1, y1])\n",
    "        elbow = np.array([x2, y2])\n",
    "        wrist = np.array([x3, y3])\n",
    "        \n",
    "        angle = get_angle(shoulder, elbow, wrist)\n",
    "        cv2.putText(original_image, str(angle), (40, 40), cv2.FONT_HERSHEY_SIMPLEX, 1, (255, 255, 255), 2, cv2.LINE_AA)\n",
    "        \n",
    "        if angle < 75 and state==False:\n",
    "            count = count+1\n",
    "            state=True\n",
    "        elif angle > 90:\n",
    "            state=False\n",
    "            \n",
    "        cv2.putText(original_image, str(count), (500, 500), cv2.FONT_HERSHEY_SIMPLEX, 1, (0, 255, 0), 2, cv2.LINE_AA)\n",
    "            \n",
    "        cv2.imshow('video', original_image)\n",
    "        \n",
    "        if cv2.waitKey(1) & 0xFF == ord('q'):\n",
    "            break\n",
    "            \n",
    "    video.release()\n",
    "    cv2.destroyAllWindows()"
   ]
  }
 ],
 "metadata": {
  "kernelspec": {
   "display_name": "Python 3 (ipykernel)",
   "language": "python",
   "name": "python3"
  },
  "language_info": {
   "codemirror_mode": {
    "name": "ipython",
    "version": 3
   },
   "file_extension": ".py",
   "mimetype": "text/x-python",
   "name": "python",
   "nbconvert_exporter": "python",
   "pygments_lexer": "ipython3",
   "version": "3.11.4"
  }
 },
 "nbformat": 4,
 "nbformat_minor": 5
}
