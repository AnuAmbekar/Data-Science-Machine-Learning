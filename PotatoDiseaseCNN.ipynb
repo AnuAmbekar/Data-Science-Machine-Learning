{
 "cells": [
  {
   "cell_type": "code",
   "execution_count": 2,
   "metadata": {},
   "outputs": [],
   "source": [
    "import os\n",
    "from PIL import Image\n",
    "import numpy as np\n",
    "from numpy import asarray\n",
    "import pandas as pd\n",
    "from sklearn.model_selection import train_test_split\n",
    "from sklearn import preprocessing\n",
    "import tensorflow as tf\n",
    "from tensorflow.keras import datasets, layers, models\n",
    "import matplotlib.pyplot as plt"
   ]
  },
  {
   "cell_type": "code",
   "execution_count": 2,
   "metadata": {},
   "outputs": [],
   "source": [
    "training_data = 'C://Users/anurag/Documents/Python/Potato Disease/PLD_3_Classes_256/Training'"
   ]
  },
  {
   "cell_type": "code",
   "execution_count": 3,
   "metadata": {},
   "outputs": [
    {
     "name": "stdout",
     "output_type": "stream",
     "text": [
      "['Early_Blight', 'Healthy', 'Late_Blight']\n"
     ]
    }
   ],
   "source": [
    "class_names = os.listdir(training_data)\n",
    "print(class_names) #list type"
   ]
  },
  {
   "cell_type": "code",
   "execution_count": 4,
   "metadata": {},
   "outputs": [],
   "source": [
    "training_images = 'C://Users/anurag/Documents/Python/Potato Disease/PLD_3_Classes_256/Training/Early_Blight'\n",
    "\n",
    "pixelated_early_blight = []\n",
    "early_blight_img_names = []\n",
    "resize_img = (256, 256)\n",
    "for img in os.listdir(training_images):\n",
    "    image = Image.open(os.path.join(training_images, img))\n",
    "    image = image.resize(resize_img)\n",
    "    pixels = np.asarray(image).astype('float32')\n",
    "    pixels /= 255.0\n",
    "    pixelated_early_blight.append(pixels)\n",
    "    early_blight_img_names.append(img)"
   ]
  },
  {
   "cell_type": "code",
   "execution_count": 5,
   "metadata": {},
   "outputs": [],
   "source": [
    "training_images = 'C://Users/anurag/Documents/Python/Potato Disease/PLD_3_Classes_256/Training/Healthy'\n",
    "\n",
    "pixelated_healthy = []\n",
    "healthy_img_names = []\n",
    "resize_img = (256, 256)\n",
    "for img in os.listdir(training_images):\n",
    "    image = Image.open(os.path.join(training_images, img))\n",
    "    image = image.resize(resize_img)\n",
    "    pixels = np.asarray(image).astype('float32')\n",
    "    pixels /= 255.0\n",
    "    pixelated_healthy.append(pixels)\n",
    "    healthy_img_names.append(img)"
   ]
  },
  {
   "cell_type": "code",
   "execution_count": 3,
   "metadata": {},
   "outputs": [],
   "source": [
    "training_images = 'C://Users/anurag/Documents/Python/Potato Disease/PLD_3_Classes_256/Training/Late_Blight'\n",
    "\n",
    "pixelated_late_blight = []\n",
    "late_blight_img_names = []\n",
    "resize_img = (256, 256)\n",
    "for img in os.listdir(training_images):\n",
    "    image = Image.open(os.path.join(training_images, img))\n",
    "    image = image.resize(resize_img)\n",
    "    pixels = np.asarray(image).astype('float32')\n",
    "    pixels /= 255.0\n",
    "    pixelated_late_blight.append(pixels)\n",
    "    late_blight_img_names.append(img)"
   ]
  },
  {
   "cell_type": "code",
   "execution_count": 7,
   "metadata": {},
   "outputs": [],
   "source": [
    "#df_list = early_blight_img_names + healthy_img_names + late_blight_img_names\n",
    "pixels_list = pixelated_early_blight + pixelated_healthy + pixelated_late_blight"
   ]
  },
  {
   "cell_type": "code",
   "execution_count": 8,
   "metadata": {},
   "outputs": [],
   "source": [
    "pixellated_images = np.array(pixels_list)"
   ]
  },
  {
   "cell_type": "code",
   "execution_count": 9,
   "metadata": {},
   "outputs": [],
   "source": [
    "data1 = {'filename': early_blight_img_names, 'potato_status': 'early blight'}\n",
    "\n",
    "df_early = pd.DataFrame(data1)"
   ]
  },
  {
   "cell_type": "code",
   "execution_count": 10,
   "metadata": {},
   "outputs": [],
   "source": [
    "data2 = {'filename': healthy_img_names, 'potato_status': 'healthy'}\n",
    "\n",
    "df_healthy = pd.DataFrame(data2)"
   ]
  },
  {
   "cell_type": "code",
   "execution_count": 11,
   "metadata": {},
   "outputs": [],
   "source": [
    "data3 = {'filename': late_blight_img_names, 'potato_status': 'late blight'}\n",
    "\n",
    "df_late = pd.DataFrame(data3)"
   ]
  },
  {
   "cell_type": "code",
   "execution_count": 12,
   "metadata": {},
   "outputs": [],
   "source": [
    "df = pd.concat([df_early, df_healthy, df_late])"
   ]
  },
  {
   "cell_type": "code",
   "execution_count": 15,
   "metadata": {},
   "outputs": [],
   "source": [
    "le = preprocessing.LabelEncoder()\n",
    "df['potato_status'] = le.fit_transform(df['potato_status'])"
   ]
  },
  {
   "cell_type": "code",
   "execution_count": 16,
   "metadata": {},
   "outputs": [],
   "source": [
    "X = pixellated_images\n",
    "y = df['potato_status']"
   ]
  },
  {
   "cell_type": "code",
   "execution_count": 17,
   "metadata": {},
   "outputs": [],
   "source": [
    "xtrain, xtest, ytrain, ytest = train_test_split(X, y, test_size=0.2)"
   ]
  },
  {
   "cell_type": "code",
   "execution_count": 24,
   "metadata": {},
   "outputs": [],
   "source": [
    "ytrain = np.array(ytrain)\n",
    "ytest = np.array(ytest)"
   ]
  },
  {
   "cell_type": "code",
   "execution_count": 25,
   "metadata": {},
   "outputs": [
    {
     "data": {
      "text/plain": [
       "(2600, 256, 256, 3)"
      ]
     },
     "execution_count": 25,
     "metadata": {},
     "output_type": "execute_result"
    }
   ],
   "source": [
    "np.shape(xtrain)"
   ]
  },
  {
   "cell_type": "code",
   "execution_count": 29,
   "metadata": {},
   "outputs": [],
   "source": [
    "model = models.Sequential()\n",
    "model.add(layers.Conv2D(32, (3, 3), activation='relu', input_shape=(256, 256, 3)))\n",
    "model.add(layers.MaxPooling2D((2, 2)))\n",
    "model.add(layers.Conv2D(64, (3, 3), activation='relu'))\n",
    "model.add(layers.MaxPooling2D((2, 2)))\n",
    "model.add(layers.Conv2D(64, (3, 3), activation='relu'))\n",
    "model.add(layers.Flatten())\n",
    "model.add(layers.Dense(64, activation='relu'))\n",
    "model.add(layers.Dense(10))"
   ]
  },
  {
   "cell_type": "code",
   "execution_count": 30,
   "metadata": {},
   "outputs": [
    {
     "name": "stdout",
     "output_type": "stream",
     "text": [
      "Epoch 1/10\n",
      "82/82 [==============================] - 197s 2s/step - loss: 1.2837 - accuracy: 0.4692 - val_loss: 1.0728 - val_accuracy: 0.4900\n",
      "Epoch 2/10\n",
      "82/82 [==============================] - 198s 2s/step - loss: 0.8535 - accuracy: 0.6227 - val_loss: 0.8749 - val_accuracy: 0.6206\n",
      "Epoch 3/10\n",
      "82/82 [==============================] - 195s 2s/step - loss: 0.6426 - accuracy: 0.7477 - val_loss: 0.6555 - val_accuracy: 0.7035\n",
      "Epoch 4/10\n",
      "82/82 [==============================] - 229s 3s/step - loss: 0.5137 - accuracy: 0.8046 - val_loss: 0.6541 - val_accuracy: 0.7281\n",
      "Epoch 5/10\n",
      "82/82 [==============================] - 201s 2s/step - loss: 0.5365 - accuracy: 0.7931 - val_loss: 0.8725 - val_accuracy: 0.6651\n",
      "Epoch 6/10\n",
      "82/82 [==============================] - 216s 3s/step - loss: 0.4689 - accuracy: 0.8419 - val_loss: 0.5116 - val_accuracy: 0.8003\n",
      "Epoch 7/10\n",
      "82/82 [==============================] - 198s 2s/step - loss: 0.3791 - accuracy: 0.8654 - val_loss: 0.5160 - val_accuracy: 0.7972\n",
      "Epoch 8/10\n",
      "82/82 [==============================] - 207s 3s/step - loss: 0.3012 - accuracy: 0.8981 - val_loss: 0.5456 - val_accuracy: 0.7865\n",
      "Epoch 9/10\n",
      "82/82 [==============================] - 207s 3s/step - loss: 0.2285 - accuracy: 0.9188 - val_loss: 0.5016 - val_accuracy: 0.8203\n",
      "Epoch 10/10\n",
      "82/82 [==============================] - 213s 3s/step - loss: 0.2393 - accuracy: 0.9138 - val_loss: 0.7610 - val_accuracy: 0.7819\n"
     ]
    }
   ],
   "source": [
    "model.compile(optimizer='adam',\n",
    "              loss=tf.keras.losses.SparseCategoricalCrossentropy(from_logits=True),\n",
    "              metrics=['accuracy'])\n",
    "\n",
    "history = model.fit(xtrain, ytrain, epochs=10, \n",
    "                    validation_data=(xtest, ytest))"
   ]
  },
  {
   "cell_type": "code",
   "execution_count": 32,
   "metadata": {},
   "outputs": [
    {
     "name": "stdout",
     "output_type": "stream",
     "text": [
      "21/21 - 12s - loss: 0.7610 - accuracy: 0.7819 - 12s/epoch - 571ms/step\n"
     ]
    }
   ],
   "source": [
    "test_loss, test_acc = model.evaluate(xtest,  ytest, verbose=2)"
   ]
  },
  {
   "cell_type": "code",
   "execution_count": 33,
   "metadata": {},
   "outputs": [
    {
     "name": "stdout",
     "output_type": "stream",
     "text": [
      "0.7818740606307983\n"
     ]
    }
   ],
   "source": [
    "print(test_acc)"
   ]
  }
 ],
 "metadata": {
  "kernelspec": {
   "display_name": "Python 3",
   "language": "python",
   "name": "python3"
  },
  "language_info": {
   "codemirror_mode": {
    "name": "ipython",
    "version": 3
   },
   "file_extension": ".py",
   "mimetype": "text/x-python",
   "name": "python",
   "nbconvert_exporter": "python",
   "pygments_lexer": "ipython3",
   "version": "3.7.4"
  }
 },
 "nbformat": 4,
 "nbformat_minor": 2
}
